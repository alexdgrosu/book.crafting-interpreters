{
 "cells": [
  {
   "cell_type": "markdown",
   "metadata": {},
   "source": [
    "# §5.4 A (Not Very) Pretty Printer\n",
    "\n",
    "1. run `dotnet pack` for `Lox.Interpreter.csproj` to produce a local nuget package\n",
    "2. reference the local package through:\n",
    "\n",
    "```\n",
    "#i \"nuget:/home/adg/source/github.com/book.crafting-interpreters/sharplox/Lox.Interpreter/bin/Debug\"\n",
    "#r \"nuget:Lox.Interpreter\"\n",
    "```\n",
    "\n",
    "> We don’t have a parser yet, so it’s hard to see this in action. For now, we’ll hack together a little main() method that manually instantiates a tree and prints it.\n",
    "\n",
    "```java\n",
    "public static void main(String[] args) {\n",
    "  Expr expression = new Expr.Binary(\n",
    "      new Expr.Unary(\n",
    "          new Token(TokenType.MINUS, \"-\", null, 1),\n",
    "          new Expr.Literal(123)),\n",
    "      new Token(TokenType.STAR, \"*\", null, 1),\n",
    "      new Expr.Grouping(\n",
    "          new Expr.Literal(45.67)));\n",
    "\n",
    "  System.out.println(new AstPrinter().print(expression));\n",
    "}\n",
    "```\n",
    "\n",
    "> If we did everything right, it prints:\n",
    "\n",
    "`(* (- 123) (group 45.67))`\n",
    "\n",
    "> You can go ahead and delete this method. We won’t need it. Also, as we add new syntax tree types, I won’t bother showing the necessary visit methods for them in AstPrinter. If you want to (and you want the Java compiler to not yell at you), go ahead and add them yourself. It will come in handy in the next chapter when we start parsing Lox code into syntax trees. Or, if you don’t care to maintain AstPrinter, feel free to delete it. We won’t need it again.\n",
    "\n",
    "[[source]](https://craftinginterpreters.com/representing-code.html#a-not-very-pretty-printer)"
   ]
  },
  {
   "cell_type": "code",
   "execution_count": null,
   "metadata": {
    "dotnet_interactive": {
     "language": "csharp"
    },
    "vscode": {
     "languageId": "dotnet-interactive.csharp"
    }
   },
   "outputs": [
    {
     "data": {
      "text/html": [
       "<div><div><strong>Restore sources</strong><ul><li><span>/home/adg/source/github.com/book.crafting-interpreters/sharplox/Lox.Interpreter/bin/Debug</span></li></ul></div><div></div><div><strong>Installed Packages</strong><ul><li><span>Lox.Interpreter, 1.0.0</span></li></ul></div></div>"
      ]
     },
     "metadata": {},
     "output_type": "display_data"
    },
    {
     "name": "stdout",
     "output_type": "stream",
     "text": [
      "(* (- 123) (group 45.67))\n"
     ]
    }
   ],
   "source": [
    "#i \"nuget:/home/adg/source/github.com/book.crafting-interpreters/sharplox/Lox.Interpreter/bin/Debug\"\n",
    "#r \"nuget:Lox.Interpreter\"\n",
    "\n",
    "using Lox.Interpreter.Ast;\n",
    "using Lox.Interpreter.Lexer;\n",
    "using Lox.Interpreter.Util;\n",
    "\n",
    "AstPrinter printer = new();\n",
    "\n",
    "Expr expression = new Expr.Binary(\n",
    "  new Expr.Unary(\n",
    "    new Token(TokenType.MINUS, \"-\", null, 1),\n",
    "    new Expr.Literal(123)\n",
    "  ),\n",
    "  new Token(TokenType.STAR, \"*\", null, 1),\n",
    "  new Expr.Grouping(\n",
    "    new Expr.Literal(45.67)\n",
    "  )\n",
    ");\n",
    "\n",
    "Console.WriteLine(printer.Print(expression));"
   ]
  }
 ],
 "metadata": {
  "kernelspec": {
   "display_name": ".NET (C#)",
   "language": "C#",
   "name": ".net-csharp"
  },
  "language_info": {
   "name": "C#"
  }
 },
 "nbformat": 4,
 "nbformat_minor": 2
}
